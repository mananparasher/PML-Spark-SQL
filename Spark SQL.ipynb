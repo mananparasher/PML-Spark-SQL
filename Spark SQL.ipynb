{
 "cells": [
  {
   "cell_type": "code",
   "execution_count": 1,
   "metadata": {},
   "outputs": [],
   "source": [
    "from pyspark.sql import SparkSession\n",
    "spark = SparkSession.builder.appName(\"Spark Tutorials\").getOrCreate()"
   ]
  },
  {
   "cell_type": "code",
   "execution_count": 24,
   "metadata": {},
   "outputs": [
    {
     "name": "stdout",
     "output_type": "stream",
     "text": [
      "+---+---------+-------+\n",
      "|age|   grades|   name|\n",
      "+---+---------+-------+\n",
      "| 25|[A, A, B]|  Ankit|\n",
      "| 24|[B, B, B]|Kashish|\n",
      "| 23|[A, C, B]| Slavvy|\n",
      "+---+---------+-------+\n",
      "\n"
     ]
    }
   ],
   "source": [
    "df=spark.read.json(\"data2.json\")\n",
    "df.show()"
   ]
  },
  {
   "cell_type": "markdown",
   "metadata": {},
   "source": [
    "## Creating a Temporary view"
   ]
  },
  {
   "cell_type": "code",
   "execution_count": 12,
   "metadata": {},
   "outputs": [
    {
     "name": "stdout",
     "output_type": "stream",
     "text": [
      "+---+---------+-----+\n",
      "|age|   grades| name|\n",
      "+---+---------+-----+\n",
      "| 25|[A, A, B]|Ankit|\n",
      "+---+---------+-----+\n",
      "\n"
     ]
    }
   ],
   "source": [
    "df.createOrReplaceTempView('temp_view_example')\n",
    "temp_view_example=spark.sql(\"select * from temp_view_example where age=25\")\n",
    "temp_view_example.show()"
   ]
  },
  {
   "cell_type": "markdown",
   "metadata": {},
   "source": [
    "## Creating a Global Temporary View "
   ]
  },
  {
   "cell_type": "code",
   "execution_count": 14,
   "metadata": {},
   "outputs": [
    {
     "name": "stdout",
     "output_type": "stream",
     "text": [
      "+---+---------+-------+\n",
      "|age|   grades|   name|\n",
      "+---+---------+-------+\n",
      "| 24|[B, B, B]|Kashish|\n",
      "| 23|[A, C, B]| Slavvy|\n",
      "+---+---------+-------+\n",
      "\n"
     ]
    }
   ],
   "source": [
    "df.createGlobalTempView(\"global_temp_view_example\")\n",
    "global_temp_view_example=spark.sql(\"select * from temp_view_example where age<25\")\n",
    "global_temp_view_example.show()"
   ]
  },
  {
   "cell_type": "markdown",
   "metadata": {},
   "source": [
    "## Join in Spark SQL"
   ]
  },
  {
   "cell_type": "code",
   "execution_count": 22,
   "metadata": {},
   "outputs": [
    {
     "name": "stdout",
     "output_type": "stream",
     "text": [
      "+---+-----+\n",
      "|age| name|\n",
      "+---+-----+\n",
      "| 25|Sethu|\n",
      "| 26|Manan|\n",
      "| 25|Shree|\n",
      "+---+-----+\n",
      "\n"
     ]
    }
   ],
   "source": [
    "df2=spark.read.json(\"data.json\")\n",
    "df2.createOrReplaceTempView('temp_view_example2')\n",
    "temp_view_example2=spark.sql(\"select * from temp_view_example2\")\n",
    "temp_view_example2.show()"
   ]
  },
  {
   "cell_type": "code",
   "execution_count": 23,
   "metadata": {},
   "outputs": [
    {
     "name": "stdout",
     "output_type": "stream",
     "text": [
      "+---+---------+-----+---+-----+\n",
      "|age|   grades| name|age| name|\n",
      "+---+---------+-----+---+-----+\n",
      "| 25|[A, A, B]|Ankit| 25|Shree|\n",
      "| 25|[A, A, B]|Ankit| 25|Sethu|\n",
      "+---+---------+-----+---+-----+\n",
      "\n"
     ]
    }
   ],
   "source": [
    "join_table_example=spark.sql(\"select * from temp_view_example \\\n",
    "inner join temp_view_example2 on temp_view_example.age=temp_view_example2.age\")\n",
    "join_table_example.show()"
   ]
  }
 ],
 "metadata": {
  "kernelspec": {
   "display_name": "Python 3",
   "language": "python",
   "name": "python3"
  },
  "language_info": {
   "codemirror_mode": {
    "name": "ipython",
    "version": 3
   },
   "file_extension": ".py",
   "mimetype": "text/x-python",
   "name": "python",
   "nbconvert_exporter": "python",
   "pygments_lexer": "ipython3",
   "version": "3.7.4"
  }
 },
 "nbformat": 4,
 "nbformat_minor": 2
}
